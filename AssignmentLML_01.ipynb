{
 "cells": [
  {
   "cell_type": "markdown",
   "id": "d6441be2",
   "metadata": {},
   "source": [
    "# Assignments 13/12"
   ]
  },
  {
   "cell_type": "code",
   "execution_count": null,
   "id": "40fdecba",
   "metadata": {},
   "outputs": [],
   "source": [
    "# Add two numbers\n",
    "a=int(input(\"first num:\"))\n",
    "b=int(input(\"second num:\"))\n",
    "print(a+b)"
   ]
  },
  {
   "cell_type": "code",
   "execution_count": 3,
   "id": "40a9dfa8",
   "metadata": {},
   "outputs": [
    {
     "name": "stdout",
     "output_type": "stream",
     "text": [
      "enter radius:4\n",
      "Area: 50.24 and circumferance:25.12\n"
     ]
    }
   ],
   "source": [
    "# calculate area and circumferance of a circle\n",
    "R = int(input(\"enter radius:\"))\n",
    "\n",
    "A= 3.14*R**2\n",
    "C = 2*3.14*R\n",
    "\n",
    "print(\"Area: {} and circumferance:{}\".format(A, C))"
   ]
  },
  {
   "cell_type": "code",
   "execution_count": 8,
   "id": "02177c2b",
   "metadata": {},
   "outputs": [
    {
     "name": "stdout",
     "output_type": "stream",
     "text": [
      "Enter Roll  Number:7\n",
      "Eneter grade:C\n",
      "Enter percentage:45\n",
      "Number:7 \n",
      "Grade:C \n",
      "Percentage:45\n"
     ]
    }
   ],
   "source": [
    "#WAP to accept roll number , grade and percentage as input from the user and display it back\n",
    "\n",
    "R = int(input(\"Enter Roll  Number:\"))\n",
    "G =  input(\"Eneter grade:\")\n",
    "P = int(input(\"Enter percentage:\"))\n",
    "\n",
    "print(\"Number:{} \\nGrade:{} \\nPercentage:{}\".format(R,G,P))\n",
    "\n"
   ]
  },
  {
   "cell_type": "code",
   "execution_count": 9,
   "id": "87519a06",
   "metadata": {},
   "outputs": [
    {
     "name": "stdout",
     "output_type": "stream",
     "text": [
      "Name:adf\n",
      "Age:50\n",
      "adf  will be 100 years old in 2072\n"
     ]
    }
   ],
   "source": [
    "#Write a program that asks the user to enter his/her name and age. Print out a message , displaying the user’s name along with the year in which they will turn 100 years old.\n",
    "\n",
    "name= input(\"Name:\")\n",
    "age= int(input(\"Age:\"))\n",
    "currentYear =2022\n",
    "final_age=(currentYear -age)+100\n",
    "print(name , \" will be 100 years old in\" ,final_age)"
   ]
  },
  {
   "cell_type": "code",
   "execution_count": 10,
   "id": "2628b676",
   "metadata": {},
   "outputs": [
    {
     "name": "stdout",
     "output_type": "stream",
     "text": [
      "Enter two numbers 23 10\n",
      "33\n"
     ]
    }
   ],
   "source": [
    "#Write a program that asks the user to input 2 integers and adds them . Accept both the numbers in a single line only\n",
    "\n",
    "a,b = input(\"Enter two numbers \"). split()\n",
    "\n",
    "Sum= int(a) + int(b)\n",
    "print(Sum)"
   ]
  },
  {
   "cell_type": "code",
   "execution_count": 11,
   "id": "d205275d",
   "metadata": {},
   "outputs": [
    {
     "name": "stdout",
     "output_type": "stream",
     "text": [
      "fisrt name:usha bharali\n",
      "last name:choudhury\n",
      "yruhduohc ilarahb ahsu\n"
     ]
    }
   ],
   "source": [
    "#Write a Python program which accepts the user's first and last name and print them in reverse order with a space between them.\n",
    "\n",
    "name1=input(\"fisrt name:\")\n",
    "name2=input(\"last name:\")\n",
    "full_name= name1+\" \"+name2\n",
    "\n",
    "print(full_name[::-1])\n"
   ]
  },
  {
   "cell_type": "markdown",
   "id": "2ce9a254",
   "metadata": {},
   "source": [
    "# Assignments 15/12"
   ]
  },
  {
   "cell_type": "code",
   "execution_count": 16,
   "id": "3ec15330",
   "metadata": {},
   "outputs": [
    {
     "name": "stdout",
     "output_type": "stream",
     "text": [
      "Enter number:44\n",
      "The Number is even\n"
     ]
    }
   ],
   "source": [
    "#WAP to accept an integer from the user and check whether it is an even or odd \n",
    "\n",
    "num=int(input(\"Enter number:\"))\n",
    "\n",
    "if num%2==0:\n",
    "    print(\"The Number is even\")\n",
    "else:\n",
    "     print(\"The Number is odd\")      \n",
    "            "
   ]
  },
  {
   "cell_type": "code",
   "execution_count": 17,
   "id": "71c7bd4c",
   "metadata": {},
   "outputs": [
    {
     "name": "stdout",
     "output_type": "stream",
     "text": [
      "enter character:u\n",
      "small letter\n"
     ]
    }
   ],
   "source": [
    "#WAP to accept a character from the user and check whether it is a capital letter or small letter. Assume user will input only alphabets\n",
    "\n",
    "x= input(\"enter character:\")\n",
    "\n",
    "if \"A\"<=x<=\"Z\":\n",
    "    print(\"Capital letter\")\n",
    "else:\n",
    "    print(\"small letter\")      "
   ]
  },
  {
   "cell_type": "code",
   "execution_count": 19,
   "id": "bbbeb25d",
   "metadata": {},
   "outputs": [
    {
     "name": "stdout",
     "output_type": "stream",
     "text": [
      "enter character:&\n",
      "special charater\n"
     ]
    }
   ],
   "source": [
    "#WAP to accept a character from the user and check whether it is a capital letter or small letter or a digit or some special symbol\n",
    "\n",
    "ch=input(\"enter character:\")\n",
    "\n",
    "if \"A\"<=ch<=\"Z\":\n",
    "    print(\"Its a capital letter\")\n",
    "elif   \"a\"<=ch<=\"z\" : \n",
    "      print(\"Its a small letter\")\n",
    "elif  '0'<=ch<='9':\n",
    "     print(\"Its a digit\")\n",
    "else:\n",
    "     print(\"special charater\")\n"
   ]
  },
  {
   "cell_type": "code",
   "execution_count": 31,
   "id": "f7c6f720",
   "metadata": {},
   "outputs": [
    {
     "name": "stdout",
     "output_type": "stream",
     "text": [
      "1st num 3214\n",
      "2nd num 567\n",
      "3rd num 209\n",
      "greatest number: 3214\n"
     ]
    }
   ],
   "source": [
    "#WAP to accept 3 integers from the user and without using any logical operator and cascading of relational operators , find out the greatest number amongst them\n",
    "Num =0\n",
    "x=int(input(\"1st num \"))\n",
    "y=int(input(\"2nd num \"))\n",
    "z=int(input(\"3rd num \"))\n",
    "\n",
    "if x>y:\n",
    "    if x>z:\n",
    "        Num =x\n",
    "elif y>z:\n",
    "    Num=y\n",
    "else:\n",
    "    Num=z\n",
    "            \n",
    "print(\"greatest number:\" ,Num)        \n",
    "\n"
   ]
  },
  {
   "cell_type": "code",
   "execution_count": 33,
   "id": "ada48158",
   "metadata": {},
   "outputs": [
    {
     "name": "stdout",
     "output_type": "stream",
     "text": [
      "Enter the year to check:2020\n",
      "The year 2020 is a leap year\n"
     ]
    }
   ],
   "source": [
    "#WAP to accept a year from the user and check whether it is a leap year or not.\n",
    "\n",
    "Year = int(input(\"Enter the year to check:\"))\n",
    "if Year%4==0 and Year%100!=0 or Year%400==0:\n",
    "    print(\"The year {} is a leap year\". format(Year))\n",
    "else :\n",
    "    print(\"Not a leap year\")\n"
   ]
  },
  {
   "cell_type": "code",
   "execution_count": 35,
   "id": "54a11829",
   "metadata": {},
   "outputs": [
    {
     "name": "stdout",
     "output_type": "stream",
     "text": [
      "enter your guess between 1 to 20,  0 or a negative number to quit:19\n",
      "your guess is too large, enter smaller number\n",
      "enter your guess between 1 to 20,  0 or a negative number to quit:13\n",
      "your guess is too small, enter bigger number \n",
      "enter your guess between 1 to 20,  0 or a negative number to quit:17\n",
      "your guess is too large, enter smaller number\n",
      "enter your guess between 1 to 20,  0 or a negative number to quit:15\n",
      "Cogratulations! your guess is right\n"
     ]
    }
   ],
   "source": [
    "#number guessing game. \n",
    "\n",
    "import random\n",
    "\n",
    "randNum=random.randint(1,20)\n",
    "\n",
    "while  True :\n",
    "    guessNum= int(input(\"enter your guess between 1 to 20,  0 or a negative number to quit:\"))\n",
    "    \n",
    "    if guessNum<=0:\n",
    "        break\n",
    "\n",
    "    if guessNum == randNum :\n",
    "        print(\"Cogratulations! your guess is right\")\n",
    "        break\n",
    "        \n",
    "    elif guessNum < randNum :\n",
    "        print(\"your guess is too small, enter bigger number \")\n",
    "    else:\n",
    "        print(\"your guess is too large, enter smaller number\")        \n"
   ]
  },
  {
   "cell_type": "code",
   "execution_count": 36,
   "id": "baf2ae26",
   "metadata": {},
   "outputs": [
    {
     "name": "stdout",
     "output_type": "stream",
     "text": [
      "entered no:3\n",
      "entered no:5\n",
      "entered no:10\n",
      "entered no:-6\n",
      "entered no:4\n",
      "entered no:20\n",
      "entered no:0\n",
      "Sum of all numbers: 42\n"
     ]
    }
   ],
   "source": [
    "#Write a program to continuously accept integers from the user until the user types 0 and as soon as 0 is entered display sum of all the nos entered before 0\n",
    "#Note:Modify the previous code so that if the user inputs a negative integer , your program should ignore it .\n",
    "\n",
    "sum=0\n",
    "\n",
    "while True:\n",
    "    n= int(input(\"entered no:\"))\n",
    "    if n<0:\n",
    "        pass\n",
    "    elif n!=0:\n",
    "        sum=sum+n\n",
    "    \n",
    "    else :\n",
    "        print('Sum of all numbers:',sum)\n",
    "        break\n"
   ]
  },
  {
   "cell_type": "code",
   "execution_count": 37,
   "id": "6a8946e5",
   "metadata": {},
   "outputs": [
    {
     "name": "stdout",
     "output_type": "stream",
     "text": [
      "enter string:usha bharali choudhury\n",
      "s\n",
      "h\n",
      " \n",
      "b\n",
      "h\n",
      "r\n",
      "l\n",
      " \n",
      "c\n",
      "h\n",
      "d\n",
      "h\n",
      "r\n",
      "y\n"
     ]
    }
   ],
   "source": [
    "#Write a program using a for loop to accept a string from the user and display it vertically but don’t display the vowels in #it.\n",
    "\n",
    "\n",
    "str=input(\"enter string:\")\n",
    "        \n",
    "for ch in str:      \n",
    "    if ch not in [ \"a\", \"e\",\"i\",\"o\",\"u\"]:  \n",
    "        print(ch)\n",
    "    "
   ]
  },
  {
   "cell_type": "code",
   "execution_count": 38,
   "id": "120b1ef2",
   "metadata": {},
   "outputs": [
    {
     "name": "stdout",
     "output_type": "stream",
     "text": [
      "enter no:4\n",
      "Sum of all numbers : 10\n"
     ]
    }
   ],
   "source": [
    "#Write a program to accept an integer from the user and display the sum of all the numbers from 1 to that number.\n",
    "n= int(input(\"enter no:\"))\n",
    "i=1\n",
    "sum=0\n",
    "while i<=n:\n",
    "    sum=sum+i\n",
    "    i=i+1\n",
    "    \n",
    "print(\"Sum of all numbers :\",sum)    "
   ]
  },
  {
   "cell_type": "code",
   "execution_count": 42,
   "id": "672cca4f",
   "metadata": {},
   "outputs": [
    {
     "name": "stdout",
     "output_type": "stream",
     "text": [
      "enter no:5\n",
      "factorial of the number is  120\n"
     ]
    }
   ],
   "source": [
    "#Write a program to accept an integer from the user and calculate its factorial\n",
    "\n",
    "n= int(input(\"enter no:\"))\n",
    "fact=n\n",
    "i=1\n",
    "while i<n:\n",
    "    fact=fact*(n-i)\n",
    "    i=i+1\n",
    "\n",
    "print(\"factorial of the number is \",fact) \n"
   ]
  },
  {
   "cell_type": "code",
   "execution_count": 43,
   "id": "467cf5dc",
   "metadata": {},
   "outputs": [
    {
     "name": "stdout",
     "output_type": "stream",
     "text": [
      "* * * \n",
      "* * * \n",
      "* * * \n",
      "* * * \n"
     ]
    }
   ],
   "source": [
    "#Write a program to print the following pattern 1\n",
    "i=1\n",
    "while i<=4:\n",
    "    print(\"* \"*3)\n",
    "    i +=1"
   ]
  },
  {
   "cell_type": "code",
   "execution_count": 44,
   "id": "673f41b0",
   "metadata": {},
   "outputs": [
    {
     "name": "stdout",
     "output_type": "stream",
     "text": [
      "* \n",
      "* * \n",
      "* * * \n",
      "* * * * \n"
     ]
    }
   ],
   "source": [
    "#Write a program to print the following pattern 1\n",
    "i=1\n",
    "while i<=4:\n",
    "    print(\"* \"*i)\n",
    "    i +=1"
   ]
  },
  {
   "cell_type": "code",
   "execution_count": 45,
   "id": "d90f94e9",
   "metadata": {},
   "outputs": [
    {
     "name": "stdout",
     "output_type": "stream",
     "text": [
      "* * * * \n",
      "* * * \n",
      "* * \n",
      "* \n"
     ]
    }
   ],
   "source": [
    "i=0\n",
    "while i<4:\n",
    "    print(\"* \"*(4-i))\n",
    "    i +=1"
   ]
  },
  {
   "cell_type": "code",
   "execution_count": 46,
   "id": "3e6688ea",
   "metadata": {},
   "outputs": [
    {
     "name": "stdout",
     "output_type": "stream",
     "text": [
      "enter no:7\n",
      "1 2 3 4 5 6 7 \n",
      "enter no:18\n",
      "1 2 3 4 5 6 7 8 9 10 11 12 13 14 15 16 17 18 \n",
      "enter no:0\n"
     ]
    }
   ],
   "source": [
    "#Write a program to accept an integer from the user and display all the numbers from 1 to that number. Repeat the process until the user enters 0.\n",
    "\n",
    "while True:\n",
    "    n= int(input(\"enter no:\"))\n",
    "    if n==0:\n",
    "        break\n",
    "    i=1    \n",
    "    while i<=n:\n",
    "        print(i, end=\" \")\n",
    "        i=i+1\n",
    "        \n",
    "    print(\"\\r\")\n",
    " \n"
   ]
  },
  {
   "cell_type": "code",
   "execution_count": null,
   "id": "78250fbe",
   "metadata": {},
   "outputs": [],
   "source": []
  }
 ],
 "metadata": {
  "kernelspec": {
   "display_name": "Python 3 (ipykernel)",
   "language": "python",
   "name": "python3"
  },
  "language_info": {
   "codemirror_mode": {
    "name": "ipython",
    "version": 3
   },
   "file_extension": ".py",
   "mimetype": "text/x-python",
   "name": "python",
   "nbconvert_exporter": "python",
   "pygments_lexer": "ipython3",
   "version": "3.9.12"
  }
 },
 "nbformat": 4,
 "nbformat_minor": 5
}
